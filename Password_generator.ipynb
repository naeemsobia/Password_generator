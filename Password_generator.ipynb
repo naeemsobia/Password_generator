{
  "nbformat": 4,
  "nbformat_minor": 0,
  "metadata": {
    "colab": {
      "provenance": [],
      "authorship_tag": "ABX9TyP//gjMcnwwkIR5twrY/UhX",
      "include_colab_link": true
    },
    "kernelspec": {
      "name": "python3",
      "display_name": "Python 3"
    },
    "language_info": {
      "name": "python"
    }
  },
  "cells": [
    {
      "cell_type": "markdown",
      "metadata": {
        "id": "view-in-github",
        "colab_type": "text"
      },
      "source": [
        "<a href=\"https://colab.research.google.com/github/naeemsobia/Password_generator/blob/main/Password_generator.ipynb\" target=\"_parent\"><img src=\"https://colab.research.google.com/assets/colab-badge.svg\" alt=\"Open In Colab\"/></a>"
      ]
    },
    {
      "cell_type": "code",
      "execution_count": null,
      "metadata": {
        "id": "r_OTEtO3LytS"
      },
      "outputs": [],
      "source": [
        "mport streamlit as st\n",
        "import random\n",
        "import string\n",
        "\n",
        "def generate_password(length, use_digits, use_special):\n",
        "    characters = string.ascii_letters\n",
        "\n",
        "    if use_digits:\n",
        "        characters += string.digits\n",
        "    if use_special:\n",
        "        characters += string.punctuation\n",
        "\n",
        "    return ''.join(random.choice(characters) for _ in range(length))\n",
        "\n",
        "st.title(\"Password Generator\")\n",
        "length = st.slider(\"Select Password Length\", min_value=6, max_value=32, value=12)\n",
        "\n",
        "use_digits = st.checkbox(\"Include Digits\")\n",
        "\n",
        "use_special = st.checkbox(\"Include Special characters\")\n",
        "\n",
        "if st.button(\"Generate Password\"):\n",
        "    password = generate_password(length, use_digits, use_special)\n",
        "    st.write(f\"Generated Password: {password}\")\n",
        "\n",
        "st.write(\"-----------------\")\n",
        "\n",
        "st.write(\"Build with ❤ by Sobia Naeem\")\n"
      ]
    }
  ]
}